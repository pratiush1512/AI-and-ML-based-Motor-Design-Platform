{
 "cells": [
  {
   "cell_type": "code",
   "execution_count": 1,
   "id": "a34d38a5",
   "metadata": {},
   "outputs": [],
   "source": [
    "## Importing the useful libraries for preprocessing\n",
    "import numpy as np\n",
    "import pandas as pd\n",
    "import matplotlib.pyplot as plt\n",
    "import seaborn as sns\n",
    "import warnings\n",
    "warnings.filterwarnings('ignore')"
   ]
  },
  {
   "cell_type": "code",
   "execution_count": 2,
   "id": "0c4c7916",
   "metadata": {},
   "outputs": [],
   "source": [
    "## reading the dataset\n",
    "df = pd.read_excel('machine_data.xlsx')"
   ]
  },
  {
   "cell_type": "code",
   "execution_count": 3,
   "id": "c18e0502",
   "metadata": {},
   "outputs": [
    {
     "data": {
      "text/html": [
       "<div>\n",
       "<style scoped>\n",
       "    .dataframe tbody tr th:only-of-type {\n",
       "        vertical-align: middle;\n",
       "    }\n",
       "\n",
       "    .dataframe tbody tr th {\n",
       "        vertical-align: top;\n",
       "    }\n",
       "\n",
       "    .dataframe thead th {\n",
       "        text-align: right;\n",
       "    }\n",
       "</style>\n",
       "<table border=\"1\" class=\"dataframe\">\n",
       "  <thead>\n",
       "    <tr style=\"text-align: right;\">\n",
       "      <th></th>\n",
       "      <th>Rated_Torque_Nm</th>\n",
       "      <th>Rated_Power_kW</th>\n",
       "      <th>Rated_Pf</th>\n",
       "      <th>Base_Speed_rpm</th>\n",
       "      <th>Max_Speed_rpm</th>\n",
       "      <th>Line_Voltage_V</th>\n",
       "      <th>peak_torque</th>\n",
       "      <th>Cooling_type</th>\n",
       "    </tr>\n",
       "  </thead>\n",
       "  <tbody>\n",
       "    <tr>\n",
       "      <th>0</th>\n",
       "      <td>110.00</td>\n",
       "      <td>46.076692</td>\n",
       "      <td>0.9</td>\n",
       "      <td>4000.0</td>\n",
       "      <td>12000</td>\n",
       "      <td>300.00</td>\n",
       "      <td>210.00</td>\n",
       "      <td>Liquid</td>\n",
       "    </tr>\n",
       "    <tr>\n",
       "      <th>1</th>\n",
       "      <td>100.00</td>\n",
       "      <td>47.123890</td>\n",
       "      <td>0.9</td>\n",
       "      <td>4500.0</td>\n",
       "      <td>9000</td>\n",
       "      <td>804.36</td>\n",
       "      <td>100.00</td>\n",
       "      <td>Liquid</td>\n",
       "    </tr>\n",
       "    <tr>\n",
       "      <th>2</th>\n",
       "      <td>437.68</td>\n",
       "      <td>110.000982</td>\n",
       "      <td>0.9</td>\n",
       "      <td>2400.0</td>\n",
       "      <td>6000</td>\n",
       "      <td>750.00</td>\n",
       "      <td>460.00</td>\n",
       "      <td>air</td>\n",
       "    </tr>\n",
       "    <tr>\n",
       "      <th>3</th>\n",
       "      <td>22.38</td>\n",
       "      <td>7.499610</td>\n",
       "      <td>0.9</td>\n",
       "      <td>3200.0</td>\n",
       "      <td>1400</td>\n",
       "      <td>180.64</td>\n",
       "      <td>33.57</td>\n",
       "      <td>air</td>\n",
       "    </tr>\n",
       "    <tr>\n",
       "      <th>4</th>\n",
       "      <td>3.00</td>\n",
       "      <td>0.628319</td>\n",
       "      <td>0.9</td>\n",
       "      <td>2000.0</td>\n",
       "      <td>10000</td>\n",
       "      <td>157.07</td>\n",
       "      <td>4.50</td>\n",
       "      <td>air</td>\n",
       "    </tr>\n",
       "  </tbody>\n",
       "</table>\n",
       "</div>"
      ],
      "text/plain": [
       "   Rated_Torque_Nm  Rated_Power_kW  Rated_Pf  Base_Speed_rpm  Max_Speed_rpm  \\\n",
       "0           110.00       46.076692       0.9          4000.0          12000   \n",
       "1           100.00       47.123890       0.9          4500.0           9000   \n",
       "2           437.68      110.000982       0.9          2400.0           6000   \n",
       "3            22.38        7.499610       0.9          3200.0           1400   \n",
       "4             3.00        0.628319       0.9          2000.0          10000   \n",
       "\n",
       "   Line_Voltage_V  peak_torque Cooling_type  \n",
       "0          300.00       210.00       Liquid  \n",
       "1          804.36       100.00       Liquid  \n",
       "2          750.00       460.00          air  \n",
       "3          180.64        33.57          air  \n",
       "4          157.07         4.50          air  "
      ]
     },
     "execution_count": 3,
     "metadata": {},
     "output_type": "execute_result"
    }
   ],
   "source": [
    "df.head()"
   ]
  },
  {
   "cell_type": "code",
   "execution_count": 4,
   "id": "785ac67a",
   "metadata": {},
   "outputs": [],
   "source": [
    "## Power factor column i.e. \"Rated_Pf\" is not creating much impact,\n",
    "## Also in practical case we always wants high power factor motor.\n",
    "## Hence we can drop that column"
   ]
  },
  {
   "cell_type": "code",
   "execution_count": 5,
   "id": "a3f0f95d",
   "metadata": {},
   "outputs": [],
   "source": [
    "df.drop('Rated_Pf',axis = 1,inplace = True)"
   ]
  },
  {
   "cell_type": "code",
   "execution_count": 6,
   "id": "3f3fb925",
   "metadata": {},
   "outputs": [
    {
     "data": {
      "text/html": [
       "<div>\n",
       "<style scoped>\n",
       "    .dataframe tbody tr th:only-of-type {\n",
       "        vertical-align: middle;\n",
       "    }\n",
       "\n",
       "    .dataframe tbody tr th {\n",
       "        vertical-align: top;\n",
       "    }\n",
       "\n",
       "    .dataframe thead th {\n",
       "        text-align: right;\n",
       "    }\n",
       "</style>\n",
       "<table border=\"1\" class=\"dataframe\">\n",
       "  <thead>\n",
       "    <tr style=\"text-align: right;\">\n",
       "      <th></th>\n",
       "      <th>Rated_Torque_Nm</th>\n",
       "      <th>Rated_Power_kW</th>\n",
       "      <th>Base_Speed_rpm</th>\n",
       "      <th>Max_Speed_rpm</th>\n",
       "      <th>Line_Voltage_V</th>\n",
       "      <th>peak_torque</th>\n",
       "    </tr>\n",
       "  </thead>\n",
       "  <tbody>\n",
       "    <tr>\n",
       "      <th>Rated_Torque_Nm</th>\n",
       "      <td>1.000000</td>\n",
       "      <td>0.747255</td>\n",
       "      <td>-0.279742</td>\n",
       "      <td>-0.329310</td>\n",
       "      <td>0.515295</td>\n",
       "      <td>0.810103</td>\n",
       "    </tr>\n",
       "    <tr>\n",
       "      <th>Rated_Power_kW</th>\n",
       "      <td>0.747255</td>\n",
       "      <td>1.000000</td>\n",
       "      <td>0.100664</td>\n",
       "      <td>-0.082675</td>\n",
       "      <td>0.615899</td>\n",
       "      <td>0.639688</td>\n",
       "    </tr>\n",
       "    <tr>\n",
       "      <th>Base_Speed_rpm</th>\n",
       "      <td>-0.279742</td>\n",
       "      <td>0.100664</td>\n",
       "      <td>1.000000</td>\n",
       "      <td>0.546891</td>\n",
       "      <td>-0.063778</td>\n",
       "      <td>-0.124834</td>\n",
       "    </tr>\n",
       "    <tr>\n",
       "      <th>Max_Speed_rpm</th>\n",
       "      <td>-0.329310</td>\n",
       "      <td>-0.082675</td>\n",
       "      <td>0.546891</td>\n",
       "      <td>1.000000</td>\n",
       "      <td>-0.131547</td>\n",
       "      <td>-0.217950</td>\n",
       "    </tr>\n",
       "    <tr>\n",
       "      <th>Line_Voltage_V</th>\n",
       "      <td>0.515295</td>\n",
       "      <td>0.615899</td>\n",
       "      <td>-0.063778</td>\n",
       "      <td>-0.131547</td>\n",
       "      <td>1.000000</td>\n",
       "      <td>0.367627</td>\n",
       "    </tr>\n",
       "    <tr>\n",
       "      <th>peak_torque</th>\n",
       "      <td>0.810103</td>\n",
       "      <td>0.639688</td>\n",
       "      <td>-0.124834</td>\n",
       "      <td>-0.217950</td>\n",
       "      <td>0.367627</td>\n",
       "      <td>1.000000</td>\n",
       "    </tr>\n",
       "  </tbody>\n",
       "</table>\n",
       "</div>"
      ],
      "text/plain": [
       "                 Rated_Torque_Nm  Rated_Power_kW  Base_Speed_rpm  \\\n",
       "Rated_Torque_Nm         1.000000        0.747255       -0.279742   \n",
       "Rated_Power_kW          0.747255        1.000000        0.100664   \n",
       "Base_Speed_rpm         -0.279742        0.100664        1.000000   \n",
       "Max_Speed_rpm          -0.329310       -0.082675        0.546891   \n",
       "Line_Voltage_V          0.515295        0.615899       -0.063778   \n",
       "peak_torque             0.810103        0.639688       -0.124834   \n",
       "\n",
       "                 Max_Speed_rpm  Line_Voltage_V  peak_torque  \n",
       "Rated_Torque_Nm      -0.329310        0.515295     0.810103  \n",
       "Rated_Power_kW       -0.082675        0.615899     0.639688  \n",
       "Base_Speed_rpm        0.546891       -0.063778    -0.124834  \n",
       "Max_Speed_rpm         1.000000       -0.131547    -0.217950  \n",
       "Line_Voltage_V       -0.131547        1.000000     0.367627  \n",
       "peak_torque          -0.217950        0.367627     1.000000  "
      ]
     },
     "execution_count": 6,
     "metadata": {},
     "output_type": "execute_result"
    }
   ],
   "source": [
    "df.corr()"
   ]
  },
  {
   "cell_type": "code",
   "execution_count": 7,
   "id": "21de16d2",
   "metadata": {},
   "outputs": [
    {
     "data": {
      "text/html": [
       "<style type=\"text/css\">\n",
       "#T_46a97_row0_col0, #T_46a97_row1_col1, #T_46a97_row2_col2, #T_46a97_row3_col3, #T_46a97_row4_col4, #T_46a97_row5_col5 {\n",
       "  background-color: #b40426;\n",
       "  color: #f1f1f1;\n",
       "}\n",
       "#T_46a97_row0_col1 {\n",
       "  background-color: #f29274;\n",
       "  color: #f1f1f1;\n",
       "}\n",
       "#T_46a97_row0_col2, #T_46a97_row0_col3, #T_46a97_row3_col0, #T_46a97_row3_col1, #T_46a97_row3_col4, #T_46a97_row3_col5 {\n",
       "  background-color: #3b4cc0;\n",
       "  color: #f1f1f1;\n",
       "}\n",
       "#T_46a97_row0_col4 {\n",
       "  background-color: #edd1c2;\n",
       "  color: #000000;\n",
       "}\n",
       "#T_46a97_row0_col5 {\n",
       "  background-color: #e46e56;\n",
       "  color: #f1f1f1;\n",
       "}\n",
       "#T_46a97_row1_col0 {\n",
       "  background-color: #ec7f63;\n",
       "  color: #f1f1f1;\n",
       "}\n",
       "#T_46a97_row1_col2 {\n",
       "  background-color: #9ebeff;\n",
       "  color: #000000;\n",
       "}\n",
       "#T_46a97_row1_col3 {\n",
       "  background-color: #7699f6;\n",
       "  color: #f1f1f1;\n",
       "}\n",
       "#T_46a97_row1_col4 {\n",
       "  background-color: #f7b99e;\n",
       "  color: #000000;\n",
       "}\n",
       "#T_46a97_row1_col5 {\n",
       "  background-color: #f7aa8c;\n",
       "  color: #000000;\n",
       "}\n",
       "#T_46a97_row2_col0 {\n",
       "  background-color: #455cce;\n",
       "  color: #f1f1f1;\n",
       "}\n",
       "#T_46a97_row2_col1, #T_46a97_row4_col2 {\n",
       "  background-color: #7093f3;\n",
       "  color: #f1f1f1;\n",
       "}\n",
       "#T_46a97_row2_col3 {\n",
       "  background-color: #f7ba9f;\n",
       "  color: #000000;\n",
       "}\n",
       "#T_46a97_row2_col4 {\n",
       "  background-color: #4c66d6;\n",
       "  color: #f1f1f1;\n",
       "}\n",
       "#T_46a97_row2_col5 {\n",
       "  background-color: #516ddb;\n",
       "  color: #f1f1f1;\n",
       "}\n",
       "#T_46a97_row3_col2, #T_46a97_row4_col1 {\n",
       "  background-color: #f6bea4;\n",
       "  color: #000000;\n",
       "}\n",
       "#T_46a97_row4_col0 {\n",
       "  background-color: #f5c1a9;\n",
       "  color: #000000;\n",
       "}\n",
       "#T_46a97_row4_col3 {\n",
       "  background-color: #6a8bef;\n",
       "  color: #f1f1f1;\n",
       "}\n",
       "#T_46a97_row4_col5 {\n",
       "  background-color: #d8dce2;\n",
       "  color: #000000;\n",
       "}\n",
       "#T_46a97_row5_col0 {\n",
       "  background-color: #e26952;\n",
       "  color: #f1f1f1;\n",
       "}\n",
       "#T_46a97_row5_col1 {\n",
       "  background-color: #f7b89c;\n",
       "  color: #000000;\n",
       "}\n",
       "#T_46a97_row5_col2 {\n",
       "  background-color: #5f7fe8;\n",
       "  color: #f1f1f1;\n",
       "}\n",
       "#T_46a97_row5_col3 {\n",
       "  background-color: #5470de;\n",
       "  color: #f1f1f1;\n",
       "}\n",
       "#T_46a97_row5_col4 {\n",
       "  background-color: #ccd9ed;\n",
       "  color: #000000;\n",
       "}\n",
       "</style>\n",
       "<table id=\"T_46a97\">\n",
       "  <thead>\n",
       "    <tr>\n",
       "      <th class=\"blank level0\" >&nbsp;</th>\n",
       "      <th id=\"T_46a97_level0_col0\" class=\"col_heading level0 col0\" >Rated_Torque_Nm</th>\n",
       "      <th id=\"T_46a97_level0_col1\" class=\"col_heading level0 col1\" >Rated_Power_kW</th>\n",
       "      <th id=\"T_46a97_level0_col2\" class=\"col_heading level0 col2\" >Base_Speed_rpm</th>\n",
       "      <th id=\"T_46a97_level0_col3\" class=\"col_heading level0 col3\" >Max_Speed_rpm</th>\n",
       "      <th id=\"T_46a97_level0_col4\" class=\"col_heading level0 col4\" >Line_Voltage_V</th>\n",
       "      <th id=\"T_46a97_level0_col5\" class=\"col_heading level0 col5\" >peak_torque</th>\n",
       "    </tr>\n",
       "  </thead>\n",
       "  <tbody>\n",
       "    <tr>\n",
       "      <th id=\"T_46a97_level0_row0\" class=\"row_heading level0 row0\" >Rated_Torque_Nm</th>\n",
       "      <td id=\"T_46a97_row0_col0\" class=\"data row0 col0\" >1.000000</td>\n",
       "      <td id=\"T_46a97_row0_col1\" class=\"data row0 col1\" >0.747255</td>\n",
       "      <td id=\"T_46a97_row0_col2\" class=\"data row0 col2\" >-0.279742</td>\n",
       "      <td id=\"T_46a97_row0_col3\" class=\"data row0 col3\" >-0.329310</td>\n",
       "      <td id=\"T_46a97_row0_col4\" class=\"data row0 col4\" >0.515295</td>\n",
       "      <td id=\"T_46a97_row0_col5\" class=\"data row0 col5\" >0.810103</td>\n",
       "    </tr>\n",
       "    <tr>\n",
       "      <th id=\"T_46a97_level0_row1\" class=\"row_heading level0 row1\" >Rated_Power_kW</th>\n",
       "      <td id=\"T_46a97_row1_col0\" class=\"data row1 col0\" >0.747255</td>\n",
       "      <td id=\"T_46a97_row1_col1\" class=\"data row1 col1\" >1.000000</td>\n",
       "      <td id=\"T_46a97_row1_col2\" class=\"data row1 col2\" >0.100664</td>\n",
       "      <td id=\"T_46a97_row1_col3\" class=\"data row1 col3\" >-0.082675</td>\n",
       "      <td id=\"T_46a97_row1_col4\" class=\"data row1 col4\" >0.615899</td>\n",
       "      <td id=\"T_46a97_row1_col5\" class=\"data row1 col5\" >0.639688</td>\n",
       "    </tr>\n",
       "    <tr>\n",
       "      <th id=\"T_46a97_level0_row2\" class=\"row_heading level0 row2\" >Base_Speed_rpm</th>\n",
       "      <td id=\"T_46a97_row2_col0\" class=\"data row2 col0\" >-0.279742</td>\n",
       "      <td id=\"T_46a97_row2_col1\" class=\"data row2 col1\" >0.100664</td>\n",
       "      <td id=\"T_46a97_row2_col2\" class=\"data row2 col2\" >1.000000</td>\n",
       "      <td id=\"T_46a97_row2_col3\" class=\"data row2 col3\" >0.546891</td>\n",
       "      <td id=\"T_46a97_row2_col4\" class=\"data row2 col4\" >-0.063778</td>\n",
       "      <td id=\"T_46a97_row2_col5\" class=\"data row2 col5\" >-0.124834</td>\n",
       "    </tr>\n",
       "    <tr>\n",
       "      <th id=\"T_46a97_level0_row3\" class=\"row_heading level0 row3\" >Max_Speed_rpm</th>\n",
       "      <td id=\"T_46a97_row3_col0\" class=\"data row3 col0\" >-0.329310</td>\n",
       "      <td id=\"T_46a97_row3_col1\" class=\"data row3 col1\" >-0.082675</td>\n",
       "      <td id=\"T_46a97_row3_col2\" class=\"data row3 col2\" >0.546891</td>\n",
       "      <td id=\"T_46a97_row3_col3\" class=\"data row3 col3\" >1.000000</td>\n",
       "      <td id=\"T_46a97_row3_col4\" class=\"data row3 col4\" >-0.131547</td>\n",
       "      <td id=\"T_46a97_row3_col5\" class=\"data row3 col5\" >-0.217950</td>\n",
       "    </tr>\n",
       "    <tr>\n",
       "      <th id=\"T_46a97_level0_row4\" class=\"row_heading level0 row4\" >Line_Voltage_V</th>\n",
       "      <td id=\"T_46a97_row4_col0\" class=\"data row4 col0\" >0.515295</td>\n",
       "      <td id=\"T_46a97_row4_col1\" class=\"data row4 col1\" >0.615899</td>\n",
       "      <td id=\"T_46a97_row4_col2\" class=\"data row4 col2\" >-0.063778</td>\n",
       "      <td id=\"T_46a97_row4_col3\" class=\"data row4 col3\" >-0.131547</td>\n",
       "      <td id=\"T_46a97_row4_col4\" class=\"data row4 col4\" >1.000000</td>\n",
       "      <td id=\"T_46a97_row4_col5\" class=\"data row4 col5\" >0.367627</td>\n",
       "    </tr>\n",
       "    <tr>\n",
       "      <th id=\"T_46a97_level0_row5\" class=\"row_heading level0 row5\" >peak_torque</th>\n",
       "      <td id=\"T_46a97_row5_col0\" class=\"data row5 col0\" >0.810103</td>\n",
       "      <td id=\"T_46a97_row5_col1\" class=\"data row5 col1\" >0.639688</td>\n",
       "      <td id=\"T_46a97_row5_col2\" class=\"data row5 col2\" >-0.124834</td>\n",
       "      <td id=\"T_46a97_row5_col3\" class=\"data row5 col3\" >-0.217950</td>\n",
       "      <td id=\"T_46a97_row5_col4\" class=\"data row5 col4\" >0.367627</td>\n",
       "      <td id=\"T_46a97_row5_col5\" class=\"data row5 col5\" >1.000000</td>\n",
       "    </tr>\n",
       "  </tbody>\n",
       "</table>\n"
      ],
      "text/plain": [
       "<pandas.io.formats.style.Styler at 0x1627bf56d90>"
      ]
     },
     "execution_count": 7,
     "metadata": {},
     "output_type": "execute_result"
    }
   ],
   "source": [
    "corr = df.corr()\n",
    "corr.style.background_gradient(cmap='coolwarm')"
   ]
  },
  {
   "cell_type": "code",
   "execution_count": 8,
   "id": "c74bbe77",
   "metadata": {},
   "outputs": [],
   "source": [
    "## here we can see that two columns, \"Rated_Torque_Nm and Rated_Power_kW\" are highly correlated.\n",
    "## And also it should be in this way because of the below given formula.\n",
    "## Because Power = Torque*(angular_speed)\n",
    "## So i am dropping here \"Rated_Power_kW\""
   ]
  },
  {
   "cell_type": "code",
   "execution_count": 9,
   "id": "d7aae4d3",
   "metadata": {},
   "outputs": [],
   "source": [
    "df.drop('Rated_Power_kW', axis = 1, inplace = True)"
   ]
  },
  {
   "cell_type": "code",
   "execution_count": 10,
   "id": "63252411",
   "metadata": {},
   "outputs": [
    {
     "data": {
      "text/html": [
       "<div>\n",
       "<style scoped>\n",
       "    .dataframe tbody tr th:only-of-type {\n",
       "        vertical-align: middle;\n",
       "    }\n",
       "\n",
       "    .dataframe tbody tr th {\n",
       "        vertical-align: top;\n",
       "    }\n",
       "\n",
       "    .dataframe thead th {\n",
       "        text-align: right;\n",
       "    }\n",
       "</style>\n",
       "<table border=\"1\" class=\"dataframe\">\n",
       "  <thead>\n",
       "    <tr style=\"text-align: right;\">\n",
       "      <th></th>\n",
       "      <th>Rated_Torque_Nm</th>\n",
       "      <th>Base_Speed_rpm</th>\n",
       "      <th>Max_Speed_rpm</th>\n",
       "      <th>Line_Voltage_V</th>\n",
       "      <th>peak_torque</th>\n",
       "      <th>Cooling_type</th>\n",
       "    </tr>\n",
       "  </thead>\n",
       "  <tbody>\n",
       "    <tr>\n",
       "      <th>0</th>\n",
       "      <td>110.00</td>\n",
       "      <td>4000.0</td>\n",
       "      <td>12000</td>\n",
       "      <td>300.00</td>\n",
       "      <td>210.00</td>\n",
       "      <td>Liquid</td>\n",
       "    </tr>\n",
       "    <tr>\n",
       "      <th>1</th>\n",
       "      <td>100.00</td>\n",
       "      <td>4500.0</td>\n",
       "      <td>9000</td>\n",
       "      <td>804.36</td>\n",
       "      <td>100.00</td>\n",
       "      <td>Liquid</td>\n",
       "    </tr>\n",
       "    <tr>\n",
       "      <th>2</th>\n",
       "      <td>437.68</td>\n",
       "      <td>2400.0</td>\n",
       "      <td>6000</td>\n",
       "      <td>750.00</td>\n",
       "      <td>460.00</td>\n",
       "      <td>air</td>\n",
       "    </tr>\n",
       "    <tr>\n",
       "      <th>3</th>\n",
       "      <td>22.38</td>\n",
       "      <td>3200.0</td>\n",
       "      <td>1400</td>\n",
       "      <td>180.64</td>\n",
       "      <td>33.57</td>\n",
       "      <td>air</td>\n",
       "    </tr>\n",
       "    <tr>\n",
       "      <th>4</th>\n",
       "      <td>3.00</td>\n",
       "      <td>2000.0</td>\n",
       "      <td>10000</td>\n",
       "      <td>157.07</td>\n",
       "      <td>4.50</td>\n",
       "      <td>air</td>\n",
       "    </tr>\n",
       "  </tbody>\n",
       "</table>\n",
       "</div>"
      ],
      "text/plain": [
       "   Rated_Torque_Nm  Base_Speed_rpm  Max_Speed_rpm  Line_Voltage_V  \\\n",
       "0           110.00          4000.0          12000          300.00   \n",
       "1           100.00          4500.0           9000          804.36   \n",
       "2           437.68          2400.0           6000          750.00   \n",
       "3            22.38          3200.0           1400          180.64   \n",
       "4             3.00          2000.0          10000          157.07   \n",
       "\n",
       "   peak_torque Cooling_type  \n",
       "0       210.00       Liquid  \n",
       "1       100.00       Liquid  \n",
       "2       460.00          air  \n",
       "3        33.57          air  \n",
       "4         4.50          air  "
      ]
     },
     "execution_count": 10,
     "metadata": {},
     "output_type": "execute_result"
    }
   ],
   "source": [
    "df.head()"
   ]
  },
  {
   "cell_type": "code",
   "execution_count": 11,
   "id": "4c9aff3e",
   "metadata": {},
   "outputs": [
    {
     "name": "stdout",
     "output_type": "stream",
     "text": [
      "<class 'pandas.core.frame.DataFrame'>\n",
      "RangeIndex: 38 entries, 0 to 37\n",
      "Data columns (total 6 columns):\n",
      " #   Column           Non-Null Count  Dtype  \n",
      "---  ------           --------------  -----  \n",
      " 0   Rated_Torque_Nm  38 non-null     float64\n",
      " 1   Base_Speed_rpm   38 non-null     float64\n",
      " 2   Max_Speed_rpm    38 non-null     int64  \n",
      " 3   Line_Voltage_V   38 non-null     float64\n",
      " 4   peak_torque      38 non-null     float64\n",
      " 5   Cooling_type     38 non-null     object \n",
      "dtypes: float64(4), int64(1), object(1)\n",
      "memory usage: 1.9+ KB\n"
     ]
    }
   ],
   "source": [
    "df.info()"
   ]
  },
  {
   "cell_type": "code",
   "execution_count": 12,
   "id": "7102a0a4",
   "metadata": {},
   "outputs": [
    {
     "data": {
      "text/plain": [
       "array(['Liquid', 'air'], dtype=object)"
      ]
     },
     "execution_count": 12,
     "metadata": {},
     "output_type": "execute_result"
    }
   ],
   "source": [
    "## Handling Categorical Column \"Cooling_Type\"\n",
    "df['Cooling_type'].unique()"
   ]
  },
  {
   "cell_type": "code",
   "execution_count": 13,
   "id": "67bb0c27",
   "metadata": {},
   "outputs": [],
   "source": [
    "df['Cooling_type']=pd.get_dummies(df['Cooling_type'],drop_first=True)"
   ]
  },
  {
   "cell_type": "code",
   "execution_count": 14,
   "id": "d2d70ef4",
   "metadata": {},
   "outputs": [
    {
     "data": {
      "text/html": [
       "<div>\n",
       "<style scoped>\n",
       "    .dataframe tbody tr th:only-of-type {\n",
       "        vertical-align: middle;\n",
       "    }\n",
       "\n",
       "    .dataframe tbody tr th {\n",
       "        vertical-align: top;\n",
       "    }\n",
       "\n",
       "    .dataframe thead th {\n",
       "        text-align: right;\n",
       "    }\n",
       "</style>\n",
       "<table border=\"1\" class=\"dataframe\">\n",
       "  <thead>\n",
       "    <tr style=\"text-align: right;\">\n",
       "      <th></th>\n",
       "      <th>Rated_Torque_Nm</th>\n",
       "      <th>Base_Speed_rpm</th>\n",
       "      <th>Max_Speed_rpm</th>\n",
       "      <th>Line_Voltage_V</th>\n",
       "      <th>peak_torque</th>\n",
       "      <th>Cooling_type</th>\n",
       "    </tr>\n",
       "  </thead>\n",
       "  <tbody>\n",
       "    <tr>\n",
       "      <th>0</th>\n",
       "      <td>110.00</td>\n",
       "      <td>4000.0</td>\n",
       "      <td>12000</td>\n",
       "      <td>300.00</td>\n",
       "      <td>210.00</td>\n",
       "      <td>0</td>\n",
       "    </tr>\n",
       "    <tr>\n",
       "      <th>1</th>\n",
       "      <td>100.00</td>\n",
       "      <td>4500.0</td>\n",
       "      <td>9000</td>\n",
       "      <td>804.36</td>\n",
       "      <td>100.00</td>\n",
       "      <td>0</td>\n",
       "    </tr>\n",
       "    <tr>\n",
       "      <th>2</th>\n",
       "      <td>437.68</td>\n",
       "      <td>2400.0</td>\n",
       "      <td>6000</td>\n",
       "      <td>750.00</td>\n",
       "      <td>460.00</td>\n",
       "      <td>1</td>\n",
       "    </tr>\n",
       "    <tr>\n",
       "      <th>3</th>\n",
       "      <td>22.38</td>\n",
       "      <td>3200.0</td>\n",
       "      <td>1400</td>\n",
       "      <td>180.64</td>\n",
       "      <td>33.57</td>\n",
       "      <td>1</td>\n",
       "    </tr>\n",
       "    <tr>\n",
       "      <th>4</th>\n",
       "      <td>3.00</td>\n",
       "      <td>2000.0</td>\n",
       "      <td>10000</td>\n",
       "      <td>157.07</td>\n",
       "      <td>4.50</td>\n",
       "      <td>1</td>\n",
       "    </tr>\n",
       "  </tbody>\n",
       "</table>\n",
       "</div>"
      ],
      "text/plain": [
       "   Rated_Torque_Nm  Base_Speed_rpm  Max_Speed_rpm  Line_Voltage_V  \\\n",
       "0           110.00          4000.0          12000          300.00   \n",
       "1           100.00          4500.0           9000          804.36   \n",
       "2           437.68          2400.0           6000          750.00   \n",
       "3            22.38          3200.0           1400          180.64   \n",
       "4             3.00          2000.0          10000          157.07   \n",
       "\n",
       "   peak_torque  Cooling_type  \n",
       "0       210.00             0  \n",
       "1       100.00             0  \n",
       "2       460.00             1  \n",
       "3        33.57             1  \n",
       "4         4.50             1  "
      ]
     },
     "execution_count": 14,
     "metadata": {},
     "output_type": "execute_result"
    }
   ],
   "source": [
    "df.head()"
   ]
  },
  {
   "cell_type": "code",
   "execution_count": 15,
   "id": "18573693",
   "metadata": {},
   "outputs": [],
   "source": [
    "## Clustering the Motors using Kmeans."
   ]
  },
  {
   "cell_type": "code",
   "execution_count": 16,
   "id": "8857974d",
   "metadata": {},
   "outputs": [],
   "source": [
    "from sklearn.cluster import KMeans\n",
    "from sklearn.metrics import silhouette_samples, silhouette_score\n",
    "import matplotlib.cm as cm"
   ]
  },
  {
   "cell_type": "code",
   "execution_count": 17,
   "id": "af5b7ff4",
   "metadata": {},
   "outputs": [],
   "source": [
    "X = df[['Rated_Torque_Nm','Base_Speed_rpm','Max_Speed_rpm','Line_Voltage_V','peak_torque','Cooling_type']].iloc[:,:].values"
   ]
  },
  {
   "cell_type": "code",
   "execution_count": 18,
   "id": "7c9f0339",
   "metadata": {
    "scrolled": false
   },
   "outputs": [
    {
     "data": {
      "image/png": "[encoded data removed]",
      "text/plain": [
       "<Figure size 432x288 with 1 Axes>"
      ]
     },
     "metadata": {
      "needs_background": "light"
     },
     "output_type": "display_data"
    }
   ],
   "source": [
    "## Finding Optimum Cluster Using Elbow Method\n",
    "wcss=[]\n",
    "K = range(1,11)\n",
    "for i in K:\n",
    "    kmeans=KMeans(n_clusters=i, init='k-means++',random_state=0)\n",
    "    kmeans.fit(X)\n",
    "    wcss.append(kmeans.inertia_)\n",
    "plt.plot()\n",
    "\n",
    "plt.plot(range(1,11),wcss)\n",
    "plt.title('The Elbow Method')\n",
    "plt.xlabel('Number of Clusters')\n",
    "plt.ylabel('WCSS')\n",
    "plt.show()"
   ]
  },
  {
   "cell_type": "markdown",
   "id": "0890ad02",
   "metadata": {},
   "source": [
    "#######Automation of Elbow Method\n",
    "We are finding the perpendicular distance of each corresponding to number of cluster with the straight line joining the extreme end clusters. Whereever the distance is coming maximum we are choosing (K_max_dist + 1) as final k. From where this 1 came from, actually we have tested our algorithm on  different data then found out this conclusion."
   ]
  },
  {
   "cell_type": "code",
   "execution_count": 19,
   "id": "d5748da0",
   "metadata": {},
   "outputs": [
    {
     "data": {
      "image/png": "[encoded data removed]",
      "text/plain": [
       "<Figure size 432x288 with 1 Axes>"
      ]
     },
     "metadata": {
      "needs_background": "light"
     },
     "output_type": "display_data"
    }
   ],
   "source": [
    "plt.plot(K,wcss)\n",
    "plt.plot([K[0],K[9]], [wcss[0],wcss[9]],'ro-')\n",
    "plt.show()"
   ]
  },
  {
   "cell_type": "code",
   "execution_count": 20,
   "id": "da4e196d",
   "metadata": {},
   "outputs": [],
   "source": [
    "# Function to calculate the distance of point from a line\n",
    "def cal_dist(x1,y1,a,b,c):\n",
    "    d = abs((a*x1 + b*y1 + c)) / (np.sqrt(a**2+b**2))\n",
    "    return d"
   ]
  },
  {
   "cell_type": "code",
   "execution_count": 21,
   "id": "86c225b1",
   "metadata": {},
   "outputs": [],
   "source": [
    "a = wcss[0] - wcss[9]\n",
    "b = K[9] - K[0]\n",
    "c1 = K[0] * wcss[9]\n",
    "c2 = K[9]  *wcss[0]\n",
    "c = c1 - c2"
   ]
  },
  {
   "cell_type": "code",
   "execution_count": 22,
   "id": "b2a3b371",
   "metadata": {},
   "outputs": [],
   "source": [
    "dist_of_points = []\n",
    "for k in range(10):\n",
    "    dist_of_points.append(cal_dist(K[k],wcss[k],a,b,c))"
   ]
  },
  {
   "cell_type": "code",
   "execution_count": 23,
   "id": "0f0edcc5",
   "metadata": {},
   "outputs": [
    {
     "data": {
      "text/plain": [
       "[<matplotlib.lines.Line2D at 0x1627d40dc10>]"
      ]
     },
     "execution_count": 23,
     "metadata": {},
     "output_type": "execute_result"
    },
    {
     "data": {
      "image/png": "[encoded data removed]",
      "text/plain": [
       "<Figure size 432x288 with 1 Axes>"
      ]
     },
     "metadata": {
      "needs_background": "light"
     },
     "output_type": "display_data"
    }
   ],
   "source": [
    "plt.plot(K,dist_of_points)"
   ]
  },
  {
   "cell_type": "code",
   "execution_count": 24,
   "id": "80374461",
   "metadata": {},
   "outputs": [
    {
     "data": {
      "text/plain": [
       "[<matplotlib.lines.Line2D at 0x1627d472040>]"
      ]
     },
     "execution_count": 24,
     "metadata": {},
     "output_type": "execute_result"
    },
    {
     "data": {
      "image/png": "[encoded data removed]",
      "text/plain": [
       "<Figure size 432x288 with 1 Axes>"
      ]
     },
     "metadata": {
      "needs_background": "light"
     },
     "output_type": "display_data"
    }
   ],
   "source": [
    "## Plotting distances corresponding to different k.\n",
    "plt.plot(K,dist_of_points)"
   ]
  },
  {
   "cell_type": "code",
   "execution_count": 25,
   "id": "b880bef7",
   "metadata": {},
   "outputs": [],
   "source": [
    "#### Automated K value:\n",
    "final_k = dist_of_points.index(max(dist_of_points))+1"
   ]
  },
  {
   "cell_type": "code",
   "execution_count": 26,
   "id": "f356fd8d",
   "metadata": {},
   "outputs": [
    {
     "data": {
      "text/plain": [
       "3"
      ]
     },
     "execution_count": 26,
     "metadata": {},
     "output_type": "execute_result"
    }
   ],
   "source": [
    "final_k"
   ]
  },
  {
   "cell_type": "code",
   "execution_count": 27,
   "id": "e5eed379",
   "metadata": {},
   "outputs": [
    {
     "data": {
      "text/plain": [
       "Rated_Torque_Nm    0\n",
       "Base_Speed_rpm     0\n",
       "Max_Speed_rpm      0\n",
       "Line_Voltage_V     0\n",
       "peak_torque        0\n",
       "Cooling_type       0\n",
       "dtype: int64"
      ]
     },
     "execution_count": 27,
     "metadata": {},
     "output_type": "execute_result"
    }
   ],
   "source": [
    "df.isnull().sum()"
   ]
  },
  {
   "cell_type": "code",
   "execution_count": 28,
   "id": "dc553496",
   "metadata": {},
   "outputs": [],
   "source": [
    "from sklearn.preprocessing import MinMaxScaler"
   ]
  },
  {
   "cell_type": "code",
   "execution_count": 29,
   "id": "85f1f057",
   "metadata": {},
   "outputs": [],
   "source": [
    "df1 = df.copy()"
   ]
  },
  {
   "cell_type": "code",
   "execution_count": 30,
   "id": "ef2294b5",
   "metadata": {},
   "outputs": [],
   "source": [
    "scaler1 = MinMaxScaler()\n",
    "scaler2 = MinMaxScaler()\n",
    "scaler3 = MinMaxScaler()\n",
    "scaler4 = MinMaxScaler()\n",
    "scaler5 = MinMaxScaler()\n",
    "\n",
    "scaler1.fit(df1[['Rated_Torque_Nm']])\n",
    "df1['Rated_Torque_Nm'] = scaler1.transform(df1[['Rated_Torque_Nm']])\n",
    "\n",
    "scaler2.fit(df1[['Base_Speed_rpm']])\n",
    "df1['Base_Speed_rpm'] = scaler2.transform(df1[['Base_Speed_rpm']])\n",
    "\n",
    "scaler3.fit(df1[['Max_Speed_rpm']])\n",
    "df1['Max_Speed_rpm'] = scaler3.transform(df1[['Max_Speed_rpm']])\n",
    "\n",
    "scaler4.fit(df1[['Line_Voltage_V']])\n",
    "df1['Line_Voltage_V'] = scaler4.transform(df1[['Line_Voltage_V']])\n",
    "\n",
    "scaler5.fit(df1[['peak_torque']])\n",
    "df1['peak_torque'] = scaler5.transform(df1[['peak_torque']])"
   ]
  },
  {
   "cell_type": "code",
   "execution_count": 31,
   "id": "ffebe944",
   "metadata": {},
   "outputs": [
    {
     "data": {
      "text/html": [
       "<div>\n",
       "<style scoped>\n",
       "    .dataframe tbody tr th:only-of-type {\n",
       "        vertical-align: middle;\n",
       "    }\n",
       "\n",
       "    .dataframe tbody tr th {\n",
       "        vertical-align: top;\n",
       "    }\n",
       "\n",
       "    .dataframe thead th {\n",
       "        text-align: right;\n",
       "    }\n",
       "</style>\n",
       "<table border=\"1\" class=\"dataframe\">\n",
       "  <thead>\n",
       "    <tr style=\"text-align: right;\">\n",
       "      <th></th>\n",
       "      <th>Rated_Torque_Nm</th>\n",
       "      <th>Base_Speed_rpm</th>\n",
       "      <th>Max_Speed_rpm</th>\n",
       "      <th>Line_Voltage_V</th>\n",
       "      <th>peak_torque</th>\n",
       "      <th>Cooling_type</th>\n",
       "    </tr>\n",
       "  </thead>\n",
       "  <tbody>\n",
       "    <tr>\n",
       "      <th>0</th>\n",
       "      <td>0.251223</td>\n",
       "      <td>0.609551</td>\n",
       "      <td>0.779412</td>\n",
       "      <td>0.322425</td>\n",
       "      <td>0.163680</td>\n",
       "      <td>0</td>\n",
       "    </tr>\n",
       "    <tr>\n",
       "      <th>1</th>\n",
       "      <td>0.228372</td>\n",
       "      <td>0.707163</td>\n",
       "      <td>0.558824</td>\n",
       "      <td>1.000000</td>\n",
       "      <td>0.076065</td>\n",
       "      <td>0</td>\n",
       "    </tr>\n",
       "    <tr>\n",
       "      <th>2</th>\n",
       "      <td>1.000000</td>\n",
       "      <td>0.297192</td>\n",
       "      <td>0.338235</td>\n",
       "      <td>0.926971</td>\n",
       "      <td>0.362804</td>\n",
       "      <td>1</td>\n",
       "    </tr>\n",
       "    <tr>\n",
       "      <th>3</th>\n",
       "      <td>0.051003</td>\n",
       "      <td>0.453372</td>\n",
       "      <td>0.000000</td>\n",
       "      <td>0.162072</td>\n",
       "      <td>0.023154</td>\n",
       "      <td>1</td>\n",
       "    </tr>\n",
       "    <tr>\n",
       "      <th>4</th>\n",
       "      <td>0.006718</td>\n",
       "      <td>0.219102</td>\n",
       "      <td>0.632353</td>\n",
       "      <td>0.130407</td>\n",
       "      <td>0.000000</td>\n",
       "      <td>1</td>\n",
       "    </tr>\n",
       "  </tbody>\n",
       "</table>\n",
       "</div>"
      ],
      "text/plain": [
       "   Rated_Torque_Nm  Base_Speed_rpm  Max_Speed_rpm  Line_Voltage_V  \\\n",
       "0         0.251223        0.609551       0.779412        0.322425   \n",
       "1         0.228372        0.707163       0.558824        1.000000   \n",
       "2         1.000000        0.297192       0.338235        0.926971   \n",
       "3         0.051003        0.453372       0.000000        0.162072   \n",
       "4         0.006718        0.219102       0.632353        0.130407   \n",
       "\n",
       "   peak_torque  Cooling_type  \n",
       "0     0.163680             0  \n",
       "1     0.076065             0  \n",
       "2     0.362804             1  \n",
       "3     0.023154             1  \n",
       "4     0.000000             1  "
      ]
     },
     "execution_count": 31,
     "metadata": {},
     "output_type": "execute_result"
    }
   ],
   "source": [
    "df1.head(5)"
   ]
  },
  {
   "cell_type": "code",
   "execution_count": 32,
   "id": "798c0586",
   "metadata": {},
   "outputs": [],
   "source": [
    "X1 = df1[['Rated_Torque_Nm','Base_Speed_rpm','Max_Speed_rpm','Line_Voltage_V','peak_torque','Cooling_type']].iloc[:,:].values"
   ]
  },
  {
   "cell_type": "code",
   "execution_count": 33,
   "id": "765d12bb",
   "metadata": {},
   "outputs": [
    {
     "name": "stdout",
     "output_type": "stream",
     "text": [
      "[0 0 2 1 1 0 0 0 2 0 0 2 1 1 0 0 1 1 0 1 0 0 1 0 0 2 1 1 1 0 0 0 0 0 2 0 2\n",
      " 1]\n"
     ]
    }
   ],
   "source": [
    "kmeans = KMeans(n_clusters=final_k, init='k-means++', random_state=0)\n",
    "\n",
    "# return a label for each data point based on their cluster\n",
    "Y = kmeans.fit_predict(X1)\n",
    "\n",
    "print(Y)"
   ]
  },
  {
   "cell_type": "code",
   "execution_count": 34,
   "id": "d68e45df",
   "metadata": {},
   "outputs": [],
   "source": [
    "df['cluster']=Y"
   ]
  },
  {
   "cell_type": "code",
   "execution_count": 35,
   "id": "353d555d",
   "metadata": {},
   "outputs": [
    {
     "data": {
      "text/html": [
       "<div>\n",
       "<style scoped>\n",
       "    .dataframe tbody tr th:only-of-type {\n",
       "        vertical-align: middle;\n",
       "    }\n",
       "\n",
       "    .dataframe tbody tr th {\n",
       "        vertical-align: top;\n",
       "    }\n",
       "\n",
       "    .dataframe thead th {\n",
       "        text-align: right;\n",
       "    }\n",
       "</style>\n",
       "<table border=\"1\" class=\"dataframe\">\n",
       "  <thead>\n",
       "    <tr style=\"text-align: right;\">\n",
       "      <th></th>\n",
       "      <th>Rated_Torque_Nm</th>\n",
       "      <th>Base_Speed_rpm</th>\n",
       "      <th>Max_Speed_rpm</th>\n",
       "      <th>Line_Voltage_V</th>\n",
       "      <th>peak_torque</th>\n",
       "      <th>Cooling_type</th>\n",
       "      <th>cluster</th>\n",
       "    </tr>\n",
       "  </thead>\n",
       "  <tbody>\n",
       "    <tr>\n",
       "      <th>0</th>\n",
       "      <td>110.00</td>\n",
       "      <td>4000.0</td>\n",
       "      <td>12000</td>\n",
       "      <td>300.00</td>\n",
       "      <td>210.00</td>\n",
       "      <td>0</td>\n",
       "      <td>0</td>\n",
       "    </tr>\n",
       "    <tr>\n",
       "      <th>1</th>\n",
       "      <td>100.00</td>\n",
       "      <td>4500.0</td>\n",
       "      <td>9000</td>\n",
       "      <td>804.36</td>\n",
       "      <td>100.00</td>\n",
       "      <td>0</td>\n",
       "      <td>0</td>\n",
       "    </tr>\n",
       "    <tr>\n",
       "      <th>2</th>\n",
       "      <td>437.68</td>\n",
       "      <td>2400.0</td>\n",
       "      <td>6000</td>\n",
       "      <td>750.00</td>\n",
       "      <td>460.00</td>\n",
       "      <td>1</td>\n",
       "      <td>2</td>\n",
       "    </tr>\n",
       "    <tr>\n",
       "      <th>3</th>\n",
       "      <td>22.38</td>\n",
       "      <td>3200.0</td>\n",
       "      <td>1400</td>\n",
       "      <td>180.64</td>\n",
       "      <td>33.57</td>\n",
       "      <td>1</td>\n",
       "      <td>1</td>\n",
       "    </tr>\n",
       "    <tr>\n",
       "      <th>4</th>\n",
       "      <td>3.00</td>\n",
       "      <td>2000.0</td>\n",
       "      <td>10000</td>\n",
       "      <td>157.07</td>\n",
       "      <td>4.50</td>\n",
       "      <td>1</td>\n",
       "      <td>1</td>\n",
       "    </tr>\n",
       "  </tbody>\n",
       "</table>\n",
       "</div>"
      ],
      "text/plain": [
       "   Rated_Torque_Nm  Base_Speed_rpm  Max_Speed_rpm  Line_Voltage_V  \\\n",
       "0           110.00          4000.0          12000          300.00   \n",
       "1           100.00          4500.0           9000          804.36   \n",
       "2           437.68          2400.0           6000          750.00   \n",
       "3            22.38          3200.0           1400          180.64   \n",
       "4             3.00          2000.0          10000          157.07   \n",
       "\n",
       "   peak_torque  Cooling_type  cluster  \n",
       "0       210.00             0        0  \n",
       "1       100.00             0        0  \n",
       "2       460.00             1        2  \n",
       "3        33.57             1        1  \n",
       "4         4.50             1        1  "
      ]
     },
     "execution_count": 35,
     "metadata": {},
     "output_type": "execute_result"
    }
   ],
   "source": [
    "df.head(5)"
   ]
  },
  {
   "cell_type": "code",
   "execution_count": 36,
   "id": "54762889",
   "metadata": {},
   "outputs": [],
   "source": [
    "df1['cluster'] = Y"
   ]
  },
  {
   "cell_type": "code",
   "execution_count": 37,
   "id": "7ffe3545",
   "metadata": {},
   "outputs": [
    {
     "data": {
      "text/html": [
       "<div>\n",
       "<style scoped>\n",
       "    .dataframe tbody tr th:only-of-type {\n",
       "        vertical-align: middle;\n",
       "    }\n",
       "\n",
       "    .dataframe tbody tr th {\n",
       "        vertical-align: top;\n",
       "    }\n",
       "\n",
       "    .dataframe thead th {\n",
       "        text-align: right;\n",
       "    }\n",
       "</style>\n",
       "<table border=\"1\" class=\"dataframe\">\n",
       "  <thead>\n",
       "    <tr style=\"text-align: right;\">\n",
       "      <th></th>\n",
       "      <th>Rated_Torque_Nm</th>\n",
       "      <th>Base_Speed_rpm</th>\n",
       "      <th>Max_Speed_rpm</th>\n",
       "      <th>Line_Voltage_V</th>\n",
       "      <th>peak_torque</th>\n",
       "      <th>Cooling_type</th>\n",
       "      <th>cluster</th>\n",
       "    </tr>\n",
       "  </thead>\n",
       "  <tbody>\n",
       "    <tr>\n",
       "      <th>0</th>\n",
       "      <td>0.251223</td>\n",
       "      <td>0.609551</td>\n",
       "      <td>0.779412</td>\n",
       "      <td>0.322425</td>\n",
       "      <td>0.163680</td>\n",
       "      <td>0</td>\n",
       "      <td>0</td>\n",
       "    </tr>\n",
       "    <tr>\n",
       "      <th>1</th>\n",
       "      <td>0.228372</td>\n",
       "      <td>0.707163</td>\n",
       "      <td>0.558824</td>\n",
       "      <td>1.000000</td>\n",
       "      <td>0.076065</td>\n",
       "      <td>0</td>\n",
       "      <td>0</td>\n",
       "    </tr>\n",
       "    <tr>\n",
       "      <th>2</th>\n",
       "      <td>1.000000</td>\n",
       "      <td>0.297192</td>\n",
       "      <td>0.338235</td>\n",
       "      <td>0.926971</td>\n",
       "      <td>0.362804</td>\n",
       "      <td>1</td>\n",
       "      <td>2</td>\n",
       "    </tr>\n",
       "    <tr>\n",
       "      <th>3</th>\n",
       "      <td>0.051003</td>\n",
       "      <td>0.453372</td>\n",
       "      <td>0.000000</td>\n",
       "      <td>0.162072</td>\n",
       "      <td>0.023154</td>\n",
       "      <td>1</td>\n",
       "      <td>1</td>\n",
       "    </tr>\n",
       "    <tr>\n",
       "      <th>4</th>\n",
       "      <td>0.006718</td>\n",
       "      <td>0.219102</td>\n",
       "      <td>0.632353</td>\n",
       "      <td>0.130407</td>\n",
       "      <td>0.000000</td>\n",
       "      <td>1</td>\n",
       "      <td>1</td>\n",
       "    </tr>\n",
       "  </tbody>\n",
       "</table>\n",
       "</div>"
      ],
      "text/plain": [
       "   Rated_Torque_Nm  Base_Speed_rpm  Max_Speed_rpm  Line_Voltage_V  \\\n",
       "0         0.251223        0.609551       0.779412        0.322425   \n",
       "1         0.228372        0.707163       0.558824        1.000000   \n",
       "2         1.000000        0.297192       0.338235        0.926971   \n",
       "3         0.051003        0.453372       0.000000        0.162072   \n",
       "4         0.006718        0.219102       0.632353        0.130407   \n",
       "\n",
       "   peak_torque  Cooling_type  cluster  \n",
       "0     0.163680             0        0  \n",
       "1     0.076065             0        0  \n",
       "2     0.362804             1        2  \n",
       "3     0.023154             1        1  \n",
       "4     0.000000             1        1  "
      ]
     },
     "execution_count": 37,
     "metadata": {},
     "output_type": "execute_result"
    }
   ],
   "source": [
    "df1.head()"
   ]
  },
  {
   "cell_type": "code",
   "execution_count": 38,
   "id": "076688f7",
   "metadata": {},
   "outputs": [],
   "source": [
    "## Seperating the clusters\n",
    "df_new=[]\n",
    "for i in range(final_k):\n",
    "    df_new.append(df1[df1['cluster']==i])"
   ]
  },
  {
   "cell_type": "code",
   "execution_count": 39,
   "id": "62d7619f",
   "metadata": {},
   "outputs": [],
   "source": [
    "## Seperating the cluster to be able to show the user real parameter value.\n",
    "df_show=[]\n",
    "for i in range(final_k):\n",
    "    df_show.append(df[df['cluster']==i])"
   ]
  },
  {
   "cell_type": "code",
   "execution_count": 40,
   "id": "707bacd9",
   "metadata": {},
   "outputs": [],
   "source": [
    "## Finding the covariance and mean for different groups\n",
    "C = []\n",
    "mu = []\n",
    "for group in df_new:\n",
    "    x = group[['Rated_Torque_Nm','Base_Speed_rpm','Max_Speed_rpm','Line_Voltage_V','peak_torque','Cooling_type']].iloc[:,:]\n",
    "    mu.append(np.mean(x))\n",
    "    C.append(np.cov(x,rowvar=False))"
   ]
  },
  {
   "cell_type": "code",
   "execution_count": 41,
   "id": "07500a79",
   "metadata": {},
   "outputs": [],
   "source": [
    "## Mahalanobis Distance Calculator\n",
    "## Function to calculate Mahalanobis distance and hence nearest cluster\n",
    "def nearest_cluster(mu,C,X):\n",
    "    dist = []\n",
    "    for i in range(final_k):\n",
    "        d = np.sqrt(np.matmul(np.matmul(((X-mu[i].values).T),C[i]),(X-mu[i].values)))\n",
    "        dist.append(d)\n",
    "    nearest_cluster = dist.index(min(dist))\n",
    "    return nearest_cluster"
   ]
  },
  {
   "cell_type": "code",
   "execution_count": 42,
   "id": "f8bc4674",
   "metadata": {},
   "outputs": [],
   "source": [
    "## Function to PreProcess Input Datapoint\n",
    "def preProcess(X):\n",
    "    input_df = pd.DataFrame([X],columns=['Rated_Torque_Nm','Base_Speed_rpm','Max_Speed_rpm','Line_Voltage_V','peak_torque','Cooling_type'])\n",
    "\n",
    "    input_df['Rated_Torque_Nm'] = scaler1.transform(input_df[['Rated_Torque_Nm']])\n",
    "\n",
    "    input_df['Base_Speed_rpm'] = scaler2.transform(input_df[['Base_Speed_rpm']])\n",
    "\n",
    "    input_df['Max_Speed_rpm'] = scaler3.transform(input_df[['Max_Speed_rpm']])\n",
    "\n",
    "    input_df['Line_Voltage_V'] = scaler4.transform(input_df[['Line_Voltage_V']])\n",
    "\n",
    "    input_df['peak_torque'] = scaler5.transform(input_df[['peak_torque']])\n",
    "    \n",
    "    X = input_df.values.tolist()[0]\n",
    "    return X"
   ]
  },
  {
   "cell_type": "code",
   "execution_count": 43,
   "id": "fc707ba0",
   "metadata": {},
   "outputs": [],
   "source": [
    "## Function to predict the outputs\n",
    "def predictor(mu,C,X,df):\n",
    "    X = preProcess(X)\n",
    "    cluster = nearest_cluster(mu,C,X)\n",
    "    return df[cluster].head(5)"
   ]
  },
  {
   "cell_type": "markdown",
   "id": "254b4705",
   "metadata": {},
   "source": [
    "####### Predictions:"
   ]
  },
  {
   "cell_type": "code",
   "execution_count": 44,
   "id": "4d1991fe",
   "metadata": {},
   "outputs": [],
   "source": [
    "## Inputs\n",
    "X1i = [110.00,4000.0,12000,300.00,210.00,0] \n",
    "X2i = [22.38,3200.0,1400,180.64,33.57,1] \n",
    "X3i = [0,0,0,0,0,0]\n",
    "X4i = [450.00,2400.0,6000,750,600.00,0]"
   ]
  },
  {
   "cell_type": "code",
   "execution_count": 45,
   "id": "a7df8b0c",
   "metadata": {},
   "outputs": [
    {
     "data": {
      "text/html": [
       "<div>\n",
       "<style scoped>\n",
       "    .dataframe tbody tr th:only-of-type {\n",
       "        vertical-align: middle;\n",
       "    }\n",
       "\n",
       "    .dataframe tbody tr th {\n",
       "        vertical-align: top;\n",
       "    }\n",
       "\n",
       "    .dataframe thead th {\n",
       "        text-align: right;\n",
       "    }\n",
       "</style>\n",
       "<table border=\"1\" class=\"dataframe\">\n",
       "  <thead>\n",
       "    <tr style=\"text-align: right;\">\n",
       "      <th></th>\n",
       "      <th>Rated_Torque_Nm</th>\n",
       "      <th>Base_Speed_rpm</th>\n",
       "      <th>Max_Speed_rpm</th>\n",
       "      <th>Line_Voltage_V</th>\n",
       "      <th>peak_torque</th>\n",
       "      <th>Cooling_type</th>\n",
       "      <th>cluster</th>\n",
       "    </tr>\n",
       "  </thead>\n",
       "  <tbody>\n",
       "    <tr>\n",
       "      <th>0</th>\n",
       "      <td>110.00</td>\n",
       "      <td>4000.0</td>\n",
       "      <td>12000</td>\n",
       "      <td>300.00</td>\n",
       "      <td>210.0</td>\n",
       "      <td>0</td>\n",
       "      <td>0</td>\n",
       "    </tr>\n",
       "    <tr>\n",
       "      <th>1</th>\n",
       "      <td>100.00</td>\n",
       "      <td>4500.0</td>\n",
       "      <td>9000</td>\n",
       "      <td>804.36</td>\n",
       "      <td>100.0</td>\n",
       "      <td>0</td>\n",
       "      <td>0</td>\n",
       "    </tr>\n",
       "    <tr>\n",
       "      <th>5</th>\n",
       "      <td>50.00</td>\n",
       "      <td>4400.0</td>\n",
       "      <td>11000</td>\n",
       "      <td>240.00</td>\n",
       "      <td>75.0</td>\n",
       "      <td>0</td>\n",
       "      <td>0</td>\n",
       "    </tr>\n",
       "    <tr>\n",
       "      <th>6</th>\n",
       "      <td>133.33</td>\n",
       "      <td>3350.0</td>\n",
       "      <td>15000</td>\n",
       "      <td>300.00</td>\n",
       "      <td>200.0</td>\n",
       "      <td>0</td>\n",
       "      <td>0</td>\n",
       "    </tr>\n",
       "    <tr>\n",
       "      <th>7</th>\n",
       "      <td>87.00</td>\n",
       "      <td>3600.0</td>\n",
       "      <td>12000</td>\n",
       "      <td>360.00</td>\n",
       "      <td>174.0</td>\n",
       "      <td>0</td>\n",
       "      <td>0</td>\n",
       "    </tr>\n",
       "  </tbody>\n",
       "</table>\n",
       "</div>"
      ],
      "text/plain": [
       "   Rated_Torque_Nm  Base_Speed_rpm  Max_Speed_rpm  Line_Voltage_V  \\\n",
       "0           110.00          4000.0          12000          300.00   \n",
       "1           100.00          4500.0           9000          804.36   \n",
       "5            50.00          4400.0          11000          240.00   \n",
       "6           133.33          3350.0          15000          300.00   \n",
       "7            87.00          3600.0          12000          360.00   \n",
       "\n",
       "   peak_torque  Cooling_type  cluster  \n",
       "0        210.0             0        0  \n",
       "1        100.0             0        0  \n",
       "5         75.0             0        0  \n",
       "6        200.0             0        0  \n",
       "7        174.0             0        0  "
      ]
     },
     "execution_count": 45,
     "metadata": {},
     "output_type": "execute_result"
    }
   ],
   "source": [
    "predictor(mu,C,X1i,df_show)"
   ]
  },
  {
   "cell_type": "code",
   "execution_count": 46,
   "id": "e9f19ee8",
   "metadata": {},
   "outputs": [
    {
     "data": {
      "text/html": [
       "<div>\n",
       "<style scoped>\n",
       "    .dataframe tbody tr th:only-of-type {\n",
       "        vertical-align: middle;\n",
       "    }\n",
       "\n",
       "    .dataframe tbody tr th {\n",
       "        vertical-align: top;\n",
       "    }\n",
       "\n",
       "    .dataframe thead th {\n",
       "        text-align: right;\n",
       "    }\n",
       "</style>\n",
       "<table border=\"1\" class=\"dataframe\">\n",
       "  <thead>\n",
       "    <tr style=\"text-align: right;\">\n",
       "      <th></th>\n",
       "      <th>Rated_Torque_Nm</th>\n",
       "      <th>Base_Speed_rpm</th>\n",
       "      <th>Max_Speed_rpm</th>\n",
       "      <th>Line_Voltage_V</th>\n",
       "      <th>peak_torque</th>\n",
       "      <th>Cooling_type</th>\n",
       "      <th>cluster</th>\n",
       "    </tr>\n",
       "  </thead>\n",
       "  <tbody>\n",
       "    <tr>\n",
       "      <th>3</th>\n",
       "      <td>0.051003</td>\n",
       "      <td>0.453372</td>\n",
       "      <td>0.000000</td>\n",
       "      <td>0.162072</td>\n",
       "      <td>0.023154</td>\n",
       "      <td>1</td>\n",
       "      <td>1</td>\n",
       "    </tr>\n",
       "    <tr>\n",
       "      <th>4</th>\n",
       "      <td>0.006718</td>\n",
       "      <td>0.219102</td>\n",
       "      <td>0.632353</td>\n",
       "      <td>0.130407</td>\n",
       "      <td>0.000000</td>\n",
       "      <td>1</td>\n",
       "      <td>1</td>\n",
       "    </tr>\n",
       "    <tr>\n",
       "      <th>12</th>\n",
       "      <td>0.454458</td>\n",
       "      <td>0.062923</td>\n",
       "      <td>0.338235</td>\n",
       "      <td>0.591112</td>\n",
       "      <td>0.104739</td>\n",
       "      <td>1</td>\n",
       "      <td>1</td>\n",
       "    </tr>\n",
       "    <tr>\n",
       "      <th>13</th>\n",
       "      <td>0.155249</td>\n",
       "      <td>0.000000</td>\n",
       "      <td>0.338235</td>\n",
       "      <td>0.792627</td>\n",
       "      <td>0.104739</td>\n",
       "      <td>1</td>\n",
       "      <td>1</td>\n",
       "    </tr>\n",
       "    <tr>\n",
       "      <th>16</th>\n",
       "      <td>0.072986</td>\n",
       "      <td>0.121490</td>\n",
       "      <td>0.338235</td>\n",
       "      <td>0.725455</td>\n",
       "      <td>0.034648</td>\n",
       "      <td>1</td>\n",
       "      <td>1</td>\n",
       "    </tr>\n",
       "  </tbody>\n",
       "</table>\n",
       "</div>"
      ],
      "text/plain": [
       "    Rated_Torque_Nm  Base_Speed_rpm  Max_Speed_rpm  Line_Voltage_V  \\\n",
       "3          0.051003        0.453372       0.000000        0.162072   \n",
       "4          0.006718        0.219102       0.632353        0.130407   \n",
       "12         0.454458        0.062923       0.338235        0.591112   \n",
       "13         0.155249        0.000000       0.338235        0.792627   \n",
       "16         0.072986        0.121490       0.338235        0.725455   \n",
       "\n",
       "    peak_torque  Cooling_type  cluster  \n",
       "3      0.023154             1        1  \n",
       "4      0.000000             1        1  \n",
       "12     0.104739             1        1  \n",
       "13     0.104739             1        1  \n",
       "16     0.034648             1        1  "
      ]
     },
     "execution_count": 46,
     "metadata": {},
     "output_type": "execute_result"
    }
   ],
   "source": [
    "predictor(mu,C,X2i,df_new)"
   ]
  },
  {
   "cell_type": "code",
   "execution_count": 47,
   "id": "d3020c9e",
   "metadata": {},
   "outputs": [
    {
     "data": {
      "text/html": [
       "<div>\n",
       "<style scoped>\n",
       "    .dataframe tbody tr th:only-of-type {\n",
       "        vertical-align: middle;\n",
       "    }\n",
       "\n",
       "    .dataframe tbody tr th {\n",
       "        vertical-align: top;\n",
       "    }\n",
       "\n",
       "    .dataframe thead th {\n",
       "        text-align: right;\n",
       "    }\n",
       "</style>\n",
       "<table border=\"1\" class=\"dataframe\">\n",
       "  <thead>\n",
       "    <tr style=\"text-align: right;\">\n",
       "      <th></th>\n",
       "      <th>Rated_Torque_Nm</th>\n",
       "      <th>Base_Speed_rpm</th>\n",
       "      <th>Max_Speed_rpm</th>\n",
       "      <th>Line_Voltage_V</th>\n",
       "      <th>peak_torque</th>\n",
       "      <th>Cooling_type</th>\n",
       "      <th>cluster</th>\n",
       "    </tr>\n",
       "  </thead>\n",
       "  <tbody>\n",
       "    <tr>\n",
       "      <th>3</th>\n",
       "      <td>22.38</td>\n",
       "      <td>3200.00</td>\n",
       "      <td>1400</td>\n",
       "      <td>180.64</td>\n",
       "      <td>33.57</td>\n",
       "      <td>1</td>\n",
       "      <td>1</td>\n",
       "    </tr>\n",
       "    <tr>\n",
       "      <th>4</th>\n",
       "      <td>3.00</td>\n",
       "      <td>2000.00</td>\n",
       "      <td>10000</td>\n",
       "      <td>157.07</td>\n",
       "      <td>4.50</td>\n",
       "      <td>1</td>\n",
       "      <td>1</td>\n",
       "    </tr>\n",
       "    <tr>\n",
       "      <th>12</th>\n",
       "      <td>198.94</td>\n",
       "      <td>1200.00</td>\n",
       "      <td>6000</td>\n",
       "      <td>500.00</td>\n",
       "      <td>136.00</td>\n",
       "      <td>1</td>\n",
       "      <td>1</td>\n",
       "    </tr>\n",
       "    <tr>\n",
       "      <th>13</th>\n",
       "      <td>68.00</td>\n",
       "      <td>877.69</td>\n",
       "      <td>6000</td>\n",
       "      <td>650.00</td>\n",
       "      <td>136.00</td>\n",
       "      <td>1</td>\n",
       "      <td>1</td>\n",
       "    </tr>\n",
       "    <tr>\n",
       "      <th>16</th>\n",
       "      <td>32.00</td>\n",
       "      <td>1500.00</td>\n",
       "      <td>6000</td>\n",
       "      <td>600.00</td>\n",
       "      <td>48.00</td>\n",
       "      <td>1</td>\n",
       "      <td>1</td>\n",
       "    </tr>\n",
       "  </tbody>\n",
       "</table>\n",
       "</div>"
      ],
      "text/plain": [
       "    Rated_Torque_Nm  Base_Speed_rpm  Max_Speed_rpm  Line_Voltage_V  \\\n",
       "3             22.38         3200.00           1400          180.64   \n",
       "4              3.00         2000.00          10000          157.07   \n",
       "12           198.94         1200.00           6000          500.00   \n",
       "13            68.00          877.69           6000          650.00   \n",
       "16            32.00         1500.00           6000          600.00   \n",
       "\n",
       "    peak_torque  Cooling_type  cluster  \n",
       "3         33.57             1        1  \n",
       "4          4.50             1        1  \n",
       "12       136.00             1        1  \n",
       "13       136.00             1        1  \n",
       "16        48.00             1        1  "
      ]
     },
     "execution_count": 47,
     "metadata": {},
     "output_type": "execute_result"
    }
   ],
   "source": [
    "predictor(mu,C,X3i,df_show)"
   ]
  },
  {
   "cell_type": "code",
   "execution_count": 48,
   "id": "0cfab409",
   "metadata": {},
   "outputs": [
    {
     "data": {
      "text/html": [
       "<div>\n",
       "<style scoped>\n",
       "    .dataframe tbody tr th:only-of-type {\n",
       "        vertical-align: middle;\n",
       "    }\n",
       "\n",
       "    .dataframe tbody tr th {\n",
       "        vertical-align: top;\n",
       "    }\n",
       "\n",
       "    .dataframe thead th {\n",
       "        text-align: right;\n",
       "    }\n",
       "</style>\n",
       "<table border=\"1\" class=\"dataframe\">\n",
       "  <thead>\n",
       "    <tr style=\"text-align: right;\">\n",
       "      <th></th>\n",
       "      <th>Rated_Torque_Nm</th>\n",
       "      <th>Base_Speed_rpm</th>\n",
       "      <th>Max_Speed_rpm</th>\n",
       "      <th>Line_Voltage_V</th>\n",
       "      <th>peak_torque</th>\n",
       "      <th>Cooling_type</th>\n",
       "      <th>cluster</th>\n",
       "    </tr>\n",
       "  </thead>\n",
       "  <tbody>\n",
       "    <tr>\n",
       "      <th>2</th>\n",
       "      <td>437.68</td>\n",
       "      <td>2400.0</td>\n",
       "      <td>6000</td>\n",
       "      <td>750.0</td>\n",
       "      <td>460.0</td>\n",
       "      <td>1</td>\n",
       "      <td>2</td>\n",
       "    </tr>\n",
       "    <tr>\n",
       "      <th>8</th>\n",
       "      <td>420.00</td>\n",
       "      <td>1500.0</td>\n",
       "      <td>4500</td>\n",
       "      <td>400.0</td>\n",
       "      <td>1260.0</td>\n",
       "      <td>0</td>\n",
       "      <td>2</td>\n",
       "    </tr>\n",
       "    <tr>\n",
       "      <th>11</th>\n",
       "      <td>324.00</td>\n",
       "      <td>1200.0</td>\n",
       "      <td>2400</td>\n",
       "      <td>400.0</td>\n",
       "      <td>400.0</td>\n",
       "      <td>0</td>\n",
       "      <td>2</td>\n",
       "    </tr>\n",
       "    <tr>\n",
       "      <th>25</th>\n",
       "      <td>437.67</td>\n",
       "      <td>2400.0</td>\n",
       "      <td>6000</td>\n",
       "      <td>750.0</td>\n",
       "      <td>460.0</td>\n",
       "      <td>0</td>\n",
       "      <td>2</td>\n",
       "    </tr>\n",
       "    <tr>\n",
       "      <th>34</th>\n",
       "      <td>240.00</td>\n",
       "      <td>4000.0</td>\n",
       "      <td>5000</td>\n",
       "      <td>650.0</td>\n",
       "      <td>660.0</td>\n",
       "      <td>0</td>\n",
       "      <td>2</td>\n",
       "    </tr>\n",
       "  </tbody>\n",
       "</table>\n",
       "</div>"
      ],
      "text/plain": [
       "    Rated_Torque_Nm  Base_Speed_rpm  Max_Speed_rpm  Line_Voltage_V  \\\n",
       "2            437.68          2400.0           6000           750.0   \n",
       "8            420.00          1500.0           4500           400.0   \n",
       "11           324.00          1200.0           2400           400.0   \n",
       "25           437.67          2400.0           6000           750.0   \n",
       "34           240.00          4000.0           5000           650.0   \n",
       "\n",
       "    peak_torque  Cooling_type  cluster  \n",
       "2         460.0             1        2  \n",
       "8        1260.0             0        2  \n",
       "11        400.0             0        2  \n",
       "25        460.0             0        2  \n",
       "34        660.0             0        2  "
      ]
     },
     "execution_count": 48,
     "metadata": {},
     "output_type": "execute_result"
    }
   ],
   "source": [
    "predictor(mu,C,X4i,df_show)"
   ]
  },
  {
   "cell_type": "code",
   "execution_count": 49,
   "id": "24aae9a7",
   "metadata": {},
   "outputs": [
    {
     "name": "stdout",
     "output_type": "stream",
     "text": [
      "For n_clusters = 2 The average silhouette_score is : 0.47151889450267437\n",
      "For n_clusters = 3 The average silhouette_score is : 0.4725539668890563\n",
      "For n_clusters = 4 The average silhouette_score is : 0.41692525292344623\n",
      "For n_clusters = 5 The average silhouette_score is : 0.39279849303166664\n",
      "For n_clusters = 6 The average silhouette_score is : 0.3893710845763638\n"
     ]
    },
    {
     "data": {
      "image/png": "[encoded data removed]",
      "text/plain": [
       "<Figure size 1296x504 with 2 Axes>"
      ]
     },
     "metadata": {
      "needs_background": "light"
     },
     "output_type": "display_data"
    },
    {
     "data": {
      "image/png": "[encoded data removed]",
      "text/plain": [
       "<Figure size 1296x504 with 2 Axes>"
      ]
     },
     "metadata": {
      "needs_background": "light"
     },
     "output_type": "display_data"
    },
    {
     "data": {
      "image/png": "[encoded data removed]",
      "text/plain": [
       "<Figure size 1296x504 with 2 Axes>"
      ]
     },
     "metadata": {
      "needs_background": "light"
     },
     "output_type": "display_data"
    },
    {
     "data": {
      "image/png": "[encoded data removed]",
      "text/plain": [
       "<Figure size 1296x504 with 2 Axes>"
      ]
     },
     "metadata": {
      "needs_background": "light"
     },
     "output_type": "display_data"
    },
    {
     "data": {
      "image/png": "[encoded data removed]",
      "text/plain": [
       "<Figure size 1296x504 with 2 Axes>"
      ]
     },
     "metadata": {
      "needs_background": "light"
     },
     "output_type": "display_data"
    }
   ],
   "source": [
    "## Verification of the Automated K-value Calculator.\n",
    "## Using Silhouette Score as the metric\n",
    "range_n_clusters = [2,3,4,5,6]\n",
    "for n_clusters in range_n_clusters:\n",
    "    # Create a subplot with 1 row and 2 columns\n",
    "    fig, (ax1, ax2) = plt.subplots(1, 2)\n",
    "    fig.set_size_inches(18, 7)\n",
    "\n",
    "    # The 1st subplot is the silhouette plot\n",
    "    # The silhouette coefficient can range from -1, 1 but in this example all\n",
    "    # lie within [-0.1, 1]\n",
    "    ax1.set_xlim([-0.1, 1])\n",
    "    # The (n_clusters+1)*10 is for inserting blank space between silhouette\n",
    "    # plots of individual clusters, to demarcate them clearly.\n",
    "    ax1.set_ylim([0, len(X) + (n_clusters + 1) * 10])\n",
    "\n",
    "    # Initialize the clusterer with n_clusters value and a random generator\n",
    "    # seed of 10 for reproducibility.\n",
    "    clusterer = KMeans(n_clusters=n_clusters, random_state=10)\n",
    "    cluster_labels = clusterer.fit_predict(X1)\n",
    "\n",
    "    # The silhouette_score gives the average value for all the samples.\n",
    "    # This gives a perspective into the density and separation of the formed\n",
    "    # clusters\n",
    "    silhouette_avg = silhouette_score(X1, cluster_labels)\n",
    "    print(\"For n_clusters =\", n_clusters,\n",
    "          \"The average silhouette_score is :\", silhouette_avg)\n",
    "\n",
    "    # Compute the silhouette scores for each sample\n",
    "    sample_silhouette_values = silhouette_samples(X1, cluster_labels)\n",
    "\n",
    "    y_lower = 10\n",
    "    for i in range(n_clusters):\n",
    "        # Aggregate the silhouette scores for samples belonging to\n",
    "        # cluster i, and sort them\n",
    "        ith_cluster_silhouette_values = \\\n",
    "            sample_silhouette_values[cluster_labels == i]\n",
    "\n",
    "        ith_cluster_silhouette_values.sort()\n",
    "\n",
    "        size_cluster_i = ith_cluster_silhouette_values.shape[0]\n",
    "        y_upper = y_lower + size_cluster_i\n",
    "\n",
    "        color = cm.nipy_spectral(float(i) / n_clusters)\n",
    "        ax1.fill_betweenx(np.arange(y_lower, y_upper),\n",
    "                          0, ith_cluster_silhouette_values,\n",
    "                          facecolor=color, edgecolor=color, alpha=0.7)\n",
    "\n",
    "        # Label the silhouette plots with their cluster numbers at the middle\n",
    "        ax1.text(-0.05, y_lower + 0.5 * size_cluster_i, str(i))\n",
    "\n",
    "        # Compute the new y_lower for next plot\n",
    "        y_lower = y_upper + 10  # 10 for the 0 samples\n",
    "\n",
    "    ax1.set_title(\"The silhouette plot for the various clusters.\")\n",
    "    ax1.set_xlabel(\"The silhouette coefficient values\")\n",
    "    ax1.set_ylabel(\"Cluster label\")\n",
    "\n",
    "    # The vertical line for average silhouette score of all the values\n",
    "    ax1.axvline(x=silhouette_avg, color=\"red\", linestyle=\"--\")\n",
    "\n",
    "    ax1.set_yticks([])  # Clear the yaxis labels / ticks\n",
    "    ax1.set_xticks([-0.1, 0, 0.2, 0.4, 0.6, 0.8, 1])\n",
    "\n",
    "    # 2nd Plot showing the actual clusters formed\n",
    "    colors = cm.nipy_spectral(cluster_labels.astype(float) / n_clusters)\n",
    "    ax2.scatter(X1[:, 0], X1[:, 1], marker='.', s=30, lw=0, alpha=0.7,\n",
    "                c=colors, edgecolor='k')\n",
    "\n",
    "    # Labeling the clusters\n",
    "    centers = clusterer.cluster_centers_\n",
    "    # Draw white circles at cluster centers\n",
    "    ax2.scatter(centers[:, 0], centers[:, 1], marker='o',\n",
    "                c=\"white\", alpha=1, s=200, edgecolor='k')\n",
    "\n",
    "    for i, c in enumerate(centers):\n",
    "        ax2.scatter(c[0], c[1], marker='$%d$' % i, alpha=1,\n",
    "                    s=50, edgecolor='k')\n",
    "\n",
    "    ax2.set_title(\"The visualization of the clustered data.\")\n",
    "    ax2.set_xlabel(\"Feature space for the 1st feature\")\n",
    "    ax2.set_ylabel(\"Feature space for the 2nd feature\")\n",
    "\n",
    "    plt.suptitle((\"Silhouette analysis for KMeans clustering on sample data \"\n",
    "                  \"with n_clusters = %d\" % n_clusters),\n",
    "                 fontsize=14, fontweight='bold')\n",
    "\n",
    "plt.show()"
   ]
  },
  {
   "cell_type": "markdown",
   "id": "7f1f05b9",
   "metadata": {},
   "source": [
    "* As we can see when k = 3, we have best silhouette score, Also we can see in the figure that when k = 3, there is not any overlapping between two clusters. So we can say that best value of k is 3. And our model algorithm for automated k is working good."
   ]
  },
  {
   "cell_type": "code",
   "execution_count": null,
   "id": "d681b88f",
   "metadata": {},
   "outputs": [],
   "source": []
  }
 ],
 "metadata": {
  "kernelspec": {
   "display_name": "Python 3 (ipykernel)",
   "language": "python",
   "name": "python3"
  },
  "language_info": {
   "codemirror_mode": {
    "name": "ipython",
    "version": 3
   },
   "file_extension": ".py",
   "mimetype": "text/x-python",
   "name": "python",
   "nbconvert_exporter": "python",
   "pygments_lexer": "ipython3",
   "version": "3.9.12"
  }
 },
 "nbformat": 4,
 "nbformat_minor": 5
}
